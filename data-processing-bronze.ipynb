{
 "cells": [
  {
   "cell_type": "code",
   "execution_count": 1,
   "id": "84e18cb1-8288-4356-967e-222ced6e25e8",
   "metadata": {},
   "outputs": [],
   "source": [
    "from pyspark.sql import SparkSession\n",
    "from pyspark.sql import SparkSession\n",
    "from pyspark.sql.functions import col, from_json\n",
    "from pyspark.sql.types import StructType, StructField, FloatType, DoubleType\n",
    "from datetime import datetime"
   ]
  },
  {
   "cell_type": "code",
   "execution_count": 2,
   "id": "ccc4cfb0-7456-4210-b660-e687d5022325",
   "metadata": {},
   "outputs": [],
   "source": [
    "# Kafka configuration\n",
    "kafka_bootstrap_servers = \"localhost:9092\"\n",
    "kafka_topic = \"data-ingestion-topic\"\n",
    "\n",
    "storage_account_name = 'vipasha'\n",
    "storage_account_key = 'oTRZNpvHO2pKAUlRctA2cgtq1eJAX3lDTjJD4pNdzkEy+3Ib2x9DsCrWEJ/+HG3jmax7jz/cuqmW+AStV6AU0A=='\n",
    "storage_container_name = 'etl-storage-container'\n",
    "\n",
    "# Define output path and filename\n",
    "output_path = f\"wasbs://{storage_container_name}@{storage_account_name}.blob.core.windows.net/bronze/\"\n",
    "current_date = datetime.now().strftime(\"%d_%m_%Y\")\n",
    "output_file = f\"{current_date}_processed.parquet\""
   ]
  },
  {
   "cell_type": "code",
   "execution_count": 4,
   "id": "3416f0b6-15ed-4896-aab1-691b8386da32",
   "metadata": {},
   "outputs": [],
   "source": [
    "spark = SparkSession.builder \\\n",
    "    .appName(\"KafkaSparkStructuredStreaming\") \\\n",
    "    .config(\"spark.jars.packages\", \"org.apache.spark:spark-sql-kafka-0-10_2.12:3.1.2,org.apache.hadoop:hadoop-azure:3.2.0\") \\\n",
    "    .getOrCreate()\n",
    "    \n",
    "# Set Azure Storage account key\n",
    "spark.conf.set(f\"fs.azure.account.key.{storage_account_name}.blob.core.windows.net\", storage_account_key)"
   ]
  },
  {
   "cell_type": "code",
   "execution_count": 5,
   "id": "0d960ce0-518a-42c8-9d1c-f944224d930c",
   "metadata": {},
   "outputs": [],
   "source": [
    "# Define the schema of the Kafka messages (example schema)\n",
    "schema = StructType([\n",
    "        StructField(\"number_of_elements\", FloatType(), True),\n",
    "        StructField(\"mean_atomic_mass\", DoubleType(), True),\n",
    "        StructField(\"wtd_mean_atomic_mass\", DoubleType(), True),\n",
    "        StructField(\"gmean_atomic_mass\", DoubleType(), True),\n",
    "        StructField(\"wtd_gmean_atomic_mass\", DoubleType(), True),\n",
    "        StructField(\"entropy_atomic_mass\", DoubleType(), True),\n",
    "        StructField(\"wtd_entropy_atomic_mass\", DoubleType(), True),\n",
    "        StructField(\"range_atomic_mass\", DoubleType(), True),\n",
    "        StructField(\"wtd_range_atomic_mass\", DoubleType(), True),\n",
    "        StructField(\"std_atomic_mass\", DoubleType(), True),\n",
    "        StructField(\"wtd_std_atomic_mass\", DoubleType(), True),\n",
    "        StructField(\"mean_fie\", DoubleType(), True),\n",
    "        StructField(\"wtd_mean_fie\", DoubleType(), True),\n",
    "        StructField(\"gmean_fie\", DoubleType(), True),\n",
    "        StructField(\"wtd_gmean_fie\", DoubleType(), True),\n",
    "        StructField(\"entropy_fie\", DoubleType(), True),\n",
    "        StructField(\"wtd_entropy_fie\", DoubleType(), True),\n",
    "        StructField(\"range_fie\", DoubleType(), True),\n",
    "        StructField(\"wtd_range_fie\", DoubleType(), True),\n",
    "        StructField(\"std_fie\", DoubleType(), True),\n",
    "        StructField(\"wtd_std_fie\", DoubleType(), True),\n",
    "        StructField(\"mean_atomic_radius\", DoubleType(), True),\n",
    "        StructField(\"wtd_mean_atomic_radius\", DoubleType(), True),\n",
    "        StructField(\"gmean_atomic_radius\", DoubleType(), True),\n",
    "        StructField(\"wtd_gmean_atomic_radius\", DoubleType(), True),\n",
    "        StructField(\"entropy_atomic_radius\", DoubleType(), True),\n",
    "        StructField(\"wtd_entropy_atomic_radius\", DoubleType(), True),\n",
    "        StructField(\"range_atomic_radius\", DoubleType(), True),\n",
    "        StructField(\"wtd_range_atomic_radius\", DoubleType(), True),\n",
    "        StructField(\"std_atomic_radius\", DoubleType(), True),\n",
    "        StructField(\"wtd_std_atomic_radius\", DoubleType(), True),\n",
    "        StructField(\"mean_Density\", DoubleType(), True),\n",
    "        StructField(\"wtd_mean_Density\", DoubleType(), True),\n",
    "        StructField(\"gmean_Density\", DoubleType(), True),\n",
    "        StructField(\"wtd_gmean_Density\", DoubleType(), True),\n",
    "        StructField(\"entropy_Density\", DoubleType(), True),\n",
    "        StructField(\"wtd_entropy_Density\", DoubleType(), True),\n",
    "        StructField(\"range_Density\", DoubleType(), True),\n",
    "        StructField(\"wtd_range_Density\", DoubleType(), True),\n",
    "        StructField(\"std_Density\", DoubleType(), True),\n",
    "        StructField(\"wtd_std_Density\", DoubleType(), True),\n",
    "        StructField(\"mean_ElectronAffinity\", DoubleType(), True),\n",
    "        StructField(\"wtd_mean_ElectronAffinity\", DoubleType(), True),\n",
    "        StructField(\"gmean_ElectronAffinity\", DoubleType(), True),\n",
    "        StructField(\"wtd_gmean_ElectronAffinity\", DoubleType(), True),\n",
    "        StructField(\"entropy_ElectronAffinity\", DoubleType(), True),\n",
    "        StructField(\"wtd_entropy_ElectronAffinity\", DoubleType(), True),\n",
    "        StructField(\"range_ElectronAffinity\", DoubleType(), True),\n",
    "        StructField(\"wtd_range_ElectronAffinity\", DoubleType(), True),\n",
    "        StructField(\"std_ElectronAffinity\", DoubleType(), True),\n",
    "        StructField(\"wtd_std_ElectronAffinity\", DoubleType(), True),\n",
    "        StructField(\"mean_FusionHeat\", DoubleType(), True),\n",
    "        StructField(\"wtd_mean_FusionHeat\", DoubleType(), True),\n",
    "        StructField(\"gmean_FusionHeat\", DoubleType(), True),\n",
    "        StructField(\"wtd_gmean_FusionHeat\", DoubleType(), True),\n",
    "        StructField(\"entropy_FusionHeat\", DoubleType(), True),\n",
    "        StructField(\"wtd_entropy_FusionHeat\", DoubleType(), True),\n",
    "        StructField(\"range_FusionHeat\", DoubleType(), True),\n",
    "        StructField(\"wtd_range_FusionHeat\", DoubleType(), True),\n",
    "        StructField(\"std_FusionHeat\", DoubleType(), True),\n",
    "        StructField(\"wtd_std_FusionHeat\", DoubleType(), True),\n",
    "        StructField(\"mean_ThermalConductivity\", DoubleType(), True),\n",
    "        StructField(\"wtd_mean_ThermalConductivity\", DoubleType(), True),\n",
    "        StructField(\"gmean_ThermalConductivity\", DoubleType(), True),\n",
    "        StructField(\"wtd_gmean_ThermalConductivity\", DoubleType(), True),\n",
    "        StructField(\"entropy_ThermalConductivity\", DoubleType(), True),\n",
    "        StructField(\"wtd_entropy_ThermalConductivity\", DoubleType(), True),\n",
    "        StructField(\"range_ThermalConductivity\", DoubleType(), True),\n",
    "        StructField(\"wtd_range_ThermalConductivity\", DoubleType(), True),\n",
    "        StructField(\"std_ThermalConductivity\", DoubleType(), True),\n",
    "        StructField(\"wtd_std_ThermalConductivity\", DoubleType(), True),\n",
    "        StructField(\"mean_Valence\", DoubleType(), True),\n",
    "        StructField(\"wtd_mean_Valence\", DoubleType(), True),\n",
    "        StructField(\"gmean_Valence\", DoubleType(), True),\n",
    "        StructField(\"wtd_gmean_Valence\", DoubleType(), True),\n",
    "        StructField(\"entropy_Valence\", DoubleType(), True),\n",
    "        StructField(\"wtd_entropy_Valence\", DoubleType(), True),\n",
    "        StructField(\"range_Valence\", DoubleType(), True),\n",
    "        StructField(\"wtd_range_Valence\", DoubleType(), True),\n",
    "        StructField(\"std_Valence\", DoubleType(), True),\n",
    "        StructField(\"wtd_std_Valence\", DoubleType(), True),\n",
    "        StructField(\"critical_temp\", DoubleType(), True)\n",
    "])"
   ]
  },
  {
   "cell_type": "code",
   "execution_count": 6,
   "id": "2f8bcfe6-608d-4ee5-8303-ab990b318492",
   "metadata": {},
   "outputs": [],
   "source": [
    "# Read data from Kafka\n",
    "kafka_df = spark \\\n",
    "    .readStream \\\n",
    "    .format(\"kafka\") \\\n",
    "    .option(\"kafka.bootstrap.servers\", kafka_bootstrap_servers) \\\n",
    "    .option(\"subscribe\", kafka_topic) \\\n",
    "    .option(\"startingOffsets\", \"earliest\") \\\n",
    "    .load()"
   ]
  },
  {
   "cell_type": "code",
   "execution_count": 7,
   "id": "0de03531-0a70-464d-81db-f4934482a120",
   "metadata": {},
   "outputs": [],
   "source": [
    "# Select the value column and cast it to string\n",
    "value_df = kafka_df.selectExpr(\"CAST(value AS STRING) as json_value\")\n",
    "\n",
    "# Parse JSON data\n",
    "parsed_df = value_df.select(from_json(col(\"json_value\"), schema).alias(\"data\")).select(\"data.*\")"
   ]
  },
  {
   "cell_type": "code",
   "execution_count": 8,
   "id": "3c235aa4-4ed4-4abe-8305-2a26bad7431e",
   "metadata": {},
   "outputs": [
    {
     "data": {
      "text/plain": [
       "DataFrame[number_of_elements: float, mean_atomic_mass: double, wtd_mean_atomic_mass: double, gmean_atomic_mass: double, wtd_gmean_atomic_mass: double, entropy_atomic_mass: double, wtd_entropy_atomic_mass: double, range_atomic_mass: double, wtd_range_atomic_mass: double, std_atomic_mass: double, wtd_std_atomic_mass: double, mean_fie: double, wtd_mean_fie: double, gmean_fie: double, wtd_gmean_fie: double, entropy_fie: double, wtd_entropy_fie: double, range_fie: double, wtd_range_fie: double, std_fie: double, wtd_std_fie: double, mean_atomic_radius: double, wtd_mean_atomic_radius: double, gmean_atomic_radius: double, wtd_gmean_atomic_radius: double, entropy_atomic_radius: double, wtd_entropy_atomic_radius: double, range_atomic_radius: double, wtd_range_atomic_radius: double, std_atomic_radius: double, wtd_std_atomic_radius: double, mean_Density: double, wtd_mean_Density: double, gmean_Density: double, wtd_gmean_Density: double, entropy_Density: double, wtd_entropy_Density: double, range_Density: double, wtd_range_Density: double, std_Density: double, wtd_std_Density: double, mean_ElectronAffinity: double, wtd_mean_ElectronAffinity: double, gmean_ElectronAffinity: double, wtd_gmean_ElectronAffinity: double, entropy_ElectronAffinity: double, wtd_entropy_ElectronAffinity: double, range_ElectronAffinity: double, wtd_range_ElectronAffinity: double, std_ElectronAffinity: double, wtd_std_ElectronAffinity: double, mean_FusionHeat: double, wtd_mean_FusionHeat: double, gmean_FusionHeat: double, wtd_gmean_FusionHeat: double, entropy_FusionHeat: double, wtd_entropy_FusionHeat: double, range_FusionHeat: double, wtd_range_FusionHeat: double, std_FusionHeat: double, wtd_std_FusionHeat: double, mean_ThermalConductivity: double, wtd_mean_ThermalConductivity: double, gmean_ThermalConductivity: double, wtd_gmean_ThermalConductivity: double, entropy_ThermalConductivity: double, wtd_entropy_ThermalConductivity: double, range_ThermalConductivity: double, wtd_range_ThermalConductivity: double, std_ThermalConductivity: double, wtd_std_ThermalConductivity: double, mean_Valence: double, wtd_mean_Valence: double, gmean_Valence: double, wtd_gmean_Valence: double, entropy_Valence: double, wtd_entropy_Valence: double, range_Valence: double, wtd_range_Valence: double, std_Valence: double, wtd_std_Valence: double, critical_temp: double]"
      ]
     },
     "execution_count": 8,
     "metadata": {},
     "output_type": "execute_result"
    }
   ],
   "source": [
    "parsed_df"
   ]
  },
  {
   "cell_type": "code",
   "execution_count": 9,
   "id": "85a1d2bc-02f1-493c-90c6-1c6b5c784289",
   "metadata": {},
   "outputs": [
    {
     "name": "stderr",
     "output_type": "stream",
     "text": [
      "ERROR:root:KeyboardInterrupt while sending command.\n",
      "Traceback (most recent call last):\n",
      "  File \"/usr/local/spark/python/lib/py4j-0.10.9.5-src.zip/py4j/java_gateway.py\", line 1038, in send_command\n",
      "    response = connection.send_command(command)\n",
      "  File \"/usr/local/spark/python/lib/py4j-0.10.9.5-src.zip/py4j/clientserver.py\", line 511, in send_command\n",
      "    answer = smart_decode(self.stream.readline()[:-1])\n",
      "  File \"/opt/conda/lib/python3.10/socket.py\", line 705, in readinto\n",
      "    return self._sock.recv_into(b)\n",
      "KeyboardInterrupt\n"
     ]
    },
    {
     "ename": "KeyboardInterrupt",
     "evalue": "",
     "output_type": "error",
     "traceback": [
      "\u001b[0;31m---------------------------------------------------------------------------\u001b[0m",
      "\u001b[0;31mKeyboardInterrupt\u001b[0m                         Traceback (most recent call last)",
      "Cell \u001b[0;32mIn [9], line 10\u001b[0m\n\u001b[1;32m      2\u001b[0m query \u001b[38;5;241m=\u001b[39m parsed_df \\\n\u001b[1;32m      3\u001b[0m     \u001b[38;5;241m.\u001b[39mwriteStream \\\n\u001b[1;32m      4\u001b[0m     \u001b[38;5;241m.\u001b[39mformat(\u001b[38;5;124m\"\u001b[39m\u001b[38;5;124mparquet\u001b[39m\u001b[38;5;124m\"\u001b[39m) \\\n\u001b[1;32m      5\u001b[0m     \u001b[38;5;241m.\u001b[39moption(\u001b[38;5;124m\"\u001b[39m\u001b[38;5;124mpath\u001b[39m\u001b[38;5;124m\"\u001b[39m, output_path \u001b[38;5;241m+\u001b[39m output_file) \\\n\u001b[1;32m      6\u001b[0m     \u001b[38;5;241m.\u001b[39moption(\u001b[38;5;124m\"\u001b[39m\u001b[38;5;124mcheckpointLocation\u001b[39m\u001b[38;5;124m\"\u001b[39m, \u001b[38;5;124m\"\u001b[39m\u001b[38;5;124m/tmp/checkpoints/kafka_to_blob/\u001b[39m\u001b[38;5;124m\"\u001b[39m) \\\n\u001b[1;32m      7\u001b[0m     \u001b[38;5;241m.\u001b[39mstart()\n\u001b[1;32m      9\u001b[0m \u001b[38;5;66;03m# Await termination\u001b[39;00m\n\u001b[0;32m---> 10\u001b[0m \u001b[43mquery\u001b[49m\u001b[38;5;241;43m.\u001b[39;49m\u001b[43mawaitTermination\u001b[49m\u001b[43m(\u001b[49m\u001b[43m)\u001b[49m\n",
      "File \u001b[0;32m/usr/local/spark/python/pyspark/sql/streaming.py:107\u001b[0m, in \u001b[0;36mStreamingQuery.awaitTermination\u001b[0;34m(self, timeout)\u001b[0m\n\u001b[1;32m    105\u001b[0m     \u001b[38;5;28;01mreturn\u001b[39;00m \u001b[38;5;28mself\u001b[39m\u001b[38;5;241m.\u001b[39m_jsq\u001b[38;5;241m.\u001b[39mawaitTermination(\u001b[38;5;28mint\u001b[39m(timeout \u001b[38;5;241m*\u001b[39m \u001b[38;5;241m1000\u001b[39m))\n\u001b[1;32m    106\u001b[0m \u001b[38;5;28;01melse\u001b[39;00m:\n\u001b[0;32m--> 107\u001b[0m     \u001b[38;5;28;01mreturn\u001b[39;00m \u001b[38;5;28;43mself\u001b[39;49m\u001b[38;5;241;43m.\u001b[39;49m\u001b[43m_jsq\u001b[49m\u001b[38;5;241;43m.\u001b[39;49m\u001b[43mawaitTermination\u001b[49m\u001b[43m(\u001b[49m\u001b[43m)\u001b[49m\n",
      "File \u001b[0;32m/usr/local/spark/python/lib/py4j-0.10.9.5-src.zip/py4j/java_gateway.py:1320\u001b[0m, in \u001b[0;36mJavaMember.__call__\u001b[0;34m(self, *args)\u001b[0m\n\u001b[1;32m   1313\u001b[0m args_command, temp_args \u001b[38;5;241m=\u001b[39m \u001b[38;5;28mself\u001b[39m\u001b[38;5;241m.\u001b[39m_build_args(\u001b[38;5;241m*\u001b[39margs)\n\u001b[1;32m   1315\u001b[0m command \u001b[38;5;241m=\u001b[39m proto\u001b[38;5;241m.\u001b[39mCALL_COMMAND_NAME \u001b[38;5;241m+\u001b[39m\\\n\u001b[1;32m   1316\u001b[0m     \u001b[38;5;28mself\u001b[39m\u001b[38;5;241m.\u001b[39mcommand_header \u001b[38;5;241m+\u001b[39m\\\n\u001b[1;32m   1317\u001b[0m     args_command \u001b[38;5;241m+\u001b[39m\\\n\u001b[1;32m   1318\u001b[0m     proto\u001b[38;5;241m.\u001b[39mEND_COMMAND_PART\n\u001b[0;32m-> 1320\u001b[0m answer \u001b[38;5;241m=\u001b[39m \u001b[38;5;28;43mself\u001b[39;49m\u001b[38;5;241;43m.\u001b[39;49m\u001b[43mgateway_client\u001b[49m\u001b[38;5;241;43m.\u001b[39;49m\u001b[43msend_command\u001b[49m\u001b[43m(\u001b[49m\u001b[43mcommand\u001b[49m\u001b[43m)\u001b[49m\n\u001b[1;32m   1321\u001b[0m return_value \u001b[38;5;241m=\u001b[39m get_return_value(\n\u001b[1;32m   1322\u001b[0m     answer, \u001b[38;5;28mself\u001b[39m\u001b[38;5;241m.\u001b[39mgateway_client, \u001b[38;5;28mself\u001b[39m\u001b[38;5;241m.\u001b[39mtarget_id, \u001b[38;5;28mself\u001b[39m\u001b[38;5;241m.\u001b[39mname)\n\u001b[1;32m   1324\u001b[0m \u001b[38;5;28;01mfor\u001b[39;00m temp_arg \u001b[38;5;129;01min\u001b[39;00m temp_args:\n",
      "File \u001b[0;32m/usr/local/spark/python/lib/py4j-0.10.9.5-src.zip/py4j/java_gateway.py:1038\u001b[0m, in \u001b[0;36mGatewayClient.send_command\u001b[0;34m(self, command, retry, binary)\u001b[0m\n\u001b[1;32m   1036\u001b[0m connection \u001b[38;5;241m=\u001b[39m \u001b[38;5;28mself\u001b[39m\u001b[38;5;241m.\u001b[39m_get_connection()\n\u001b[1;32m   1037\u001b[0m \u001b[38;5;28;01mtry\u001b[39;00m:\n\u001b[0;32m-> 1038\u001b[0m     response \u001b[38;5;241m=\u001b[39m \u001b[43mconnection\u001b[49m\u001b[38;5;241;43m.\u001b[39;49m\u001b[43msend_command\u001b[49m\u001b[43m(\u001b[49m\u001b[43mcommand\u001b[49m\u001b[43m)\u001b[49m\n\u001b[1;32m   1039\u001b[0m     \u001b[38;5;28;01mif\u001b[39;00m binary:\n\u001b[1;32m   1040\u001b[0m         \u001b[38;5;28;01mreturn\u001b[39;00m response, \u001b[38;5;28mself\u001b[39m\u001b[38;5;241m.\u001b[39m_create_connection_guard(connection)\n",
      "File \u001b[0;32m/usr/local/spark/python/lib/py4j-0.10.9.5-src.zip/py4j/clientserver.py:511\u001b[0m, in \u001b[0;36mClientServerConnection.send_command\u001b[0;34m(self, command)\u001b[0m\n\u001b[1;32m    509\u001b[0m \u001b[38;5;28;01mtry\u001b[39;00m:\n\u001b[1;32m    510\u001b[0m     \u001b[38;5;28;01mwhile\u001b[39;00m \u001b[38;5;28;01mTrue\u001b[39;00m:\n\u001b[0;32m--> 511\u001b[0m         answer \u001b[38;5;241m=\u001b[39m smart_decode(\u001b[38;5;28;43mself\u001b[39;49m\u001b[38;5;241;43m.\u001b[39;49m\u001b[43mstream\u001b[49m\u001b[38;5;241;43m.\u001b[39;49m\u001b[43mreadline\u001b[49m\u001b[43m(\u001b[49m\u001b[43m)\u001b[49m[:\u001b[38;5;241m-\u001b[39m\u001b[38;5;241m1\u001b[39m])\n\u001b[1;32m    512\u001b[0m         logger\u001b[38;5;241m.\u001b[39mdebug(\u001b[38;5;124m\"\u001b[39m\u001b[38;5;124mAnswer received: \u001b[39m\u001b[38;5;132;01m{0}\u001b[39;00m\u001b[38;5;124m\"\u001b[39m\u001b[38;5;241m.\u001b[39mformat(answer))\n\u001b[1;32m    513\u001b[0m         \u001b[38;5;66;03m# Happens when a the other end is dead. There might be an empty\u001b[39;00m\n\u001b[1;32m    514\u001b[0m         \u001b[38;5;66;03m# answer before the socket raises an error.\u001b[39;00m\n",
      "File \u001b[0;32m/opt/conda/lib/python3.10/socket.py:705\u001b[0m, in \u001b[0;36mSocketIO.readinto\u001b[0;34m(self, b)\u001b[0m\n\u001b[1;32m    703\u001b[0m \u001b[38;5;28;01mwhile\u001b[39;00m \u001b[38;5;28;01mTrue\u001b[39;00m:\n\u001b[1;32m    704\u001b[0m     \u001b[38;5;28;01mtry\u001b[39;00m:\n\u001b[0;32m--> 705\u001b[0m         \u001b[38;5;28;01mreturn\u001b[39;00m \u001b[38;5;28;43mself\u001b[39;49m\u001b[38;5;241;43m.\u001b[39;49m\u001b[43m_sock\u001b[49m\u001b[38;5;241;43m.\u001b[39;49m\u001b[43mrecv_into\u001b[49m\u001b[43m(\u001b[49m\u001b[43mb\u001b[49m\u001b[43m)\u001b[49m\n\u001b[1;32m    706\u001b[0m     \u001b[38;5;28;01mexcept\u001b[39;00m timeout:\n\u001b[1;32m    707\u001b[0m         \u001b[38;5;28mself\u001b[39m\u001b[38;5;241m.\u001b[39m_timeout_occurred \u001b[38;5;241m=\u001b[39m \u001b[38;5;28;01mTrue\u001b[39;00m\n",
      "\u001b[0;31mKeyboardInterrupt\u001b[0m: "
     ]
    }
   ],
   "source": [
    "# Write the streaming DataFrame to Azure Blob Storage in Parquet format\n",
    "query = parsed_df \\\n",
    "    .writeStream \\\n",
    "    .format(\"parquet\") \\\n",
    "    .option(\"path\", output_path + output_file) \\\n",
    "    .option(\"checkpointLocation\", \"/tmp/checkpoints/kafka_to_blob/\") \\\n",
    "    .start()\n",
    "    \n",
    "# Await termination\n",
    "try:\n",
    "    query.awaitTermination()\n",
    "except KeyboardInterrupt:\n",
    "    print(\"Stopping the query...\")\n",
    "    query.stop()\n",
    "    print(\"Query stopped.\")"
   ]
  }
 ],
 "metadata": {
  "kernelspec": {
   "display_name": "Python 3 (ipykernel)",
   "language": "python",
   "name": "python3"
  },
  "language_info": {
   "codemirror_mode": {
    "name": "ipython",
    "version": 3
   },
   "file_extension": ".py",
   "mimetype": "text/x-python",
   "name": "python",
   "nbconvert_exporter": "python",
   "pygments_lexer": "ipython3",
   "version": "3.10.6"
  }
 },
 "nbformat": 4,
 "nbformat_minor": 5
}
